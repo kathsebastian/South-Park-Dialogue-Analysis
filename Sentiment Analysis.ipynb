{
 "cells": [
  {
   "cell_type": "raw",
   "metadata": {},
   "source": []
  },
  {
   "cell_type": "code",
   "execution_count": 1,
   "metadata": {},
   "outputs": [],
   "source": [
    "import pandas as pd\n",
    "import os \n",
    "from textblob import TextBlob\n",
    "from vaderSentiment.vaderSentiment import SentimentIntensityAnalyzer\n",
    "import seaborn as sns\n",
    "import matplotlib.pyplot as plt\n",
    "from sklearn.feature_extraction import DictVectorizer\n",
    "from sklearn.feature_extraction.text import TfidfVectorizer\n",
    "from sklearn.pipeline import FeatureUnion\n",
    "from sklearn.pipeline import Pipeline, make_pipeline\n",
    "from sklearn.base import BaseEstimator, TransformerMixin\n",
    "import sklearn.cluster\n",
    "from sklearn.neighbors import NearestNeighbors\n",
    "from sklearn.cluster import KMeans\n",
    "from sklearn.model_selection import train_test_split\n",
    "import re\n",
    "from wordcloud import WordCloud, STOPWORDS"
   ]
  },
  {
   "cell_type": "code",
   "execution_count": 2,
   "metadata": {},
   "outputs": [],
   "source": [
    "os.chdir(r\"C:\\Users\\dboyd\\OneDrive\\Documents\\MSBA\\Q4\\NLP\")"
   ]
  },
  {
   "cell_type": "code",
   "execution_count": 3,
   "metadata": {},
   "outputs": [],
   "source": [
    "data = pd.read_csv('All-Seasons.csv')"
   ]
  },
  {
   "cell_type": "code",
   "execution_count": 4,
   "metadata": {},
   "outputs": [
    {
     "name": "stdout",
     "output_type": "stream",
     "text": [
      "  Season Episode Character                                               Line\n",
      "0     10       1      Stan         You guys, you guys! Chef is going away. \\n\n",
      "1     10       1      Kyle                        Going away? For how long?\\n\n",
      "2     10       1      Stan                                         Forever.\\n\n",
      "3     10       1      Chef                                  I'm sorry boys.\\n\n",
      "4     10       1      Stan  Chef said he's been bored, so he joining a gro...\n",
      "70896\n",
      "Cartman           9774\n",
      "Stan              7680\n",
      "Kyle              7099\n",
      "Butters           2602\n",
      "Randy             2467\n",
      "                  ... \n",
      "BBC Anchor           1\n",
      "Boys 1/2             1\n",
      "An Elderly Man       1\n",
      "Dr Adams             1\n",
      "Priest 4             1\n",
      "Name: Character, Length: 3950, dtype: int64\n",
      "<class 'int'>\n"
     ]
    }
   ],
   "source": [
    "print(data.head())\n",
    "print(len(data))\n",
    "print(data.Character.value_counts())\n",
    "print(type(data.Character.nunique()))"
   ]
  },
  {
   "cell_type": "code",
   "execution_count": 5,
   "metadata": {},
   "outputs": [
    {
     "name": "stdout",
     "output_type": "stream",
     "text": [
      "<class 'pandas.core.series.Series'>\n",
      "Index(['Cartman', 'Stan', 'Kyle', 'Butters', 'Randy', 'Mr. Garrison', 'Chef',\n",
      "       'Kenny', 'Sharon', 'Mr. Mackey',\n",
      "       ...\n",
      "       'Anderson Cooper', 'Floating Man', 'Townsperson 3',\n",
      "       'Cartman and the Gingers', 'Girl In Pink', 'BBC Anchor', 'Boys 1/2',\n",
      "       'An Elderly Man', 'Dr Adams', 'Priest 4'],\n",
      "      dtype='object', length=3950)\n",
      "[9774 7680 7099 ...    1    1    1]\n",
      "Cartman         9774\n",
      "Stan            7680\n",
      "Kyle            7099\n",
      "Butters         2602\n",
      "Randy           2467\n",
      "Mr. Garrison    1002\n",
      "Name: Character, dtype: int64\n",
      "['Cartman', 'Stan', 'Kyle', 'Butters', 'Randy', 'Mr. Garrison', 'Kenny']\n"
     ]
    }
   ],
   "source": [
    "values = data.Character.value_counts()\n",
    "print(type(values))\n",
    "print(values.index)\n",
    "print(values.values)\n",
    "namedata = values[values.values > 1000]\n",
    "print(namedata)\n",
    "names = namedata.index.tolist()\n",
    "names.append('Kenny')\n",
    "print(names)"
   ]
  },
  {
   "cell_type": "code",
   "execution_count": 6,
   "metadata": {},
   "outputs": [
    {
     "name": "stdout",
     "output_type": "stream",
     "text": [
      "Cartman           9774\n",
      "Stan              7680\n",
      "Kyle              7099\n",
      "Butters           2602\n",
      "Randy             2467\n",
      "                  ... \n",
      "BBC Anchor           1\n",
      "Boys 1/2             1\n",
      "An Elderly Man       1\n",
      "Dr Adams             1\n",
      "Priest 4             1\n",
      "Name: Character, Length: 3950, dtype: int64\n",
      "  Season Episode Character                                               Line\n",
      "0     10       1      Stan         You guys, you guys! Chef is going away. \\n\n",
      "1     10       1      Kyle                        Going away? For how long?\\n\n",
      "2     10       1      Stan                                         Forever.\\n\n",
      "3     10       1      Chef                                  I'm sorry boys.\\n\n",
      "4     10       1      Stan  Chef said he's been bored, so he joining a gro...\n"
     ]
    }
   ],
   "source": [
    "print(data.Character.value_counts())\n",
    "print(data.head())"
   ]
  },
  {
   "cell_type": "code",
   "execution_count": 7,
   "metadata": {},
   "outputs": [
    {
     "name": "stdout",
     "output_type": "stream",
     "text": [
      "      Season Episode Character  \\\n",
      "0         10       1      Stan   \n",
      "1         10       1      Kyle   \n",
      "2         10       1      Stan   \n",
      "3         10       1      Stan   \n",
      "4         10       1   Cartman   \n",
      "...      ...     ...       ...   \n",
      "31500      9      14      Stan   \n",
      "31501      9      14     Randy   \n",
      "31502      9      14      Stan   \n",
      "31503      9      14     Randy   \n",
      "31504      9      14      Stan   \n",
      "\n",
      "                                                    Line  \n",
      "0             You guys, you guys! Chef is going away. \\n  \n",
      "1                            Going away? For how long?\\n  \n",
      "2                                             Forever.\\n  \n",
      "3      Chef said he's been bored, so he joining a gro...  \n",
      "4      I'm gonna miss him.  I'm gonna miss Chef and I...  \n",
      "...                                                  ...  \n",
      "31500                       I think you're pushing it.\\n  \n",
      "31501                                How about twenty?\\n  \n",
      "31502                           That's not disciprine.\\n  \n",
      "31503                   Right right. Does vodka count?\\n  \n",
      "31504                                             Dad!\\n  \n",
      "\n",
      "[31505 rows x 4 columns]\n",
      "31505\n",
      "  Season Episode Character                                               Line\n",
      "0     10       1      Stan         You guys, you guys! Chef is going away. \\n\n",
      "1     10       1      Kyle                        Going away? For how long?\\n\n",
      "2     10       1      Stan                                         Forever.\\n\n",
      "4     10       1      Stan  Chef said he's been bored, so he joining a gro...\n",
      "9     10       1   Cartman  I'm gonna miss him.  I'm gonna miss Chef and I...\n"
     ]
    }
   ],
   "source": [
    "FinalData = data[data.Character.isin(names)]\n",
    "print(FinalData.reset_index(drop = True))\n",
    "print(len(FinalData))\n",
    "print(FinalData.head())"
   ]
  },
  {
   "cell_type": "code",
   "execution_count": 8,
   "metadata": {},
   "outputs": [],
   "source": [
    "def clean_text(text):\n",
    "    '''Clean text by removing unnecessary characters and altering the format of words.'''\n",
    "\n",
    "    text = text.lower()\n",
    "    \n",
    "    text = re.sub(r\"\\n\", \"\",  text)\n",
    "    text = re.sub(r\"[-()]\", \"\", text)\n",
    "    text = re.sub(r\"\\.\", \" \", text)\n",
    "    text = re.sub(r\"\\!\", \" \", text)\n",
    "    text = re.sub(r\"\\?\", \" \", text)\n",
    "    text = re.sub(r\"\\,\", \" \", text)\n",
    "    text = re.sub(r\"i'm\", \"i am\", text)\n",
    "    text = re.sub(r\"he's\", \"he is\", text)\n",
    "    text = re.sub(r\"she's\", \"she is\", text)\n",
    "    text = re.sub(r\"it's\", \"it is\", text)\n",
    "    text = re.sub(r\"that's\", \"that is\", text)\n",
    "    text = re.sub(r\"what's\", \"that is\", text)\n",
    "    text = re.sub(r\"\\'ll\", \" will\", text)\n",
    "    text = re.sub(r\"\\'re\", \" are\", text)\n",
    "    text = re.sub(r\"won't\", \"will not\", text)\n",
    "    text = re.sub(r\"can't\", \"cannot\", text)\n",
    "    text = re.sub(r\"n't\", \" not\", text)\n",
    "    text = re.sub(r\"n'\", \"ng\", text)\n",
    "    text = re.sub(r\"ohh\", \"oh\", text)\n",
    "    text = re.sub(r\"ohhh\", \"oh\", text)\n",
    "    text = re.sub(r\"ohhhh\", \"oh\", text)\n",
    "    text = re.sub(r\"ohhhhh\", \"oh\", text)\n",
    "    text = re.sub(r\"ohhhhhh\", \"oh\", text)\n",
    "    text = re.sub(r\"ahh\", \"ah\", text)\n",
    "    \n",
    "    return text"
   ]
  },
  {
   "cell_type": "code",
   "execution_count": 13,
   "metadata": {},
   "outputs": [
    {
     "name": "stderr",
     "output_type": "stream",
     "text": [
      "C:\\Users\\dboyd\\Anaconda3\\lib\\site-packages\\pandas\\core\\frame.py:4117: SettingWithCopyWarning: \n",
      "A value is trying to be set on a copy of a slice from a DataFrame\n",
      "\n",
      "See the caveats in the documentation: http://pandas.pydata.org/pandas-docs/stable/user_guide/indexing.html#returning-a-view-versus-a-copy\n",
      "  errors=errors,\n",
      "C:\\Users\\dboyd\\Anaconda3\\lib\\site-packages\\ipykernel_launcher.py:5: SettingWithCopyWarning: \n",
      "A value is trying to be set on a copy of a slice from a DataFrame.\n",
      "Try using .loc[row_indexer,col_indexer] = value instead\n",
      "\n",
      "See the caveats in the documentation: http://pandas.pydata.org/pandas-docs/stable/user_guide/indexing.html#returning-a-view-versus-a-copy\n",
      "  \"\"\"\n"
     ]
    }
   ],
   "source": [
    "clean = []\n",
    "for i in FinalData.Line:\n",
    "    clean.append(clean_text(i))\n",
    "FinalData.drop('Line', inplace = True, axis = 1)\n",
    "FinalData['Line'] = clean"
   ]
  },
  {
   "cell_type": "code",
   "execution_count": 14,
   "metadata": {},
   "outputs": [
    {
     "name": "stdout",
     "output_type": "stream",
     "text": [
      "  Season Episode Character                                               Line\n",
      "0     10       1      Stan           you guys  you guys  chef is going away  \n",
      "1     10       1      Kyle                          going away  for how long \n",
      "2     10       1      Stan                                           forever \n",
      "4     10       1      Stan  chef said he is been bored  so he joining a gr...\n",
      "9     10       1   Cartman  i am gonna miss him   i am gonna miss chef and...\n"
     ]
    }
   ],
   "source": [
    "print(FinalData.head())"
   ]
  },
  {
   "cell_type": "code",
   "execution_count": 15,
   "metadata": {},
   "outputs": [
    {
     "name": "stdout",
     "output_type": "stream",
     "text": [
      "Index(['Season', 'Episode', 'Character', 'Line'], dtype='object')\n"
     ]
    }
   ],
   "source": [
    "print(FinalData.columns)"
   ]
  },
  {
   "cell_type": "code",
   "execution_count": 16,
   "metadata": {},
   "outputs": [
    {
     "name": "stdout",
     "output_type": "stream",
     "text": [
      "Sentiment(polarity=-0.08333333333333334, subjectivity=0.8333333333333333)\n",
      "Sentiment: -0.08333333333333334 Subjectivity: 0.8333333333333333\n",
      "<class 'textblob.en.sentiments.Sentiment'>\n",
      "[('chef', 'NN'), ('said', 'VBD'), ('he', 'PRP'), ('is', 'VBZ'), ('been', 'VBN'), ('bored', 'VBN'), ('so', 'RB'), ('he', 'PRP'), ('joining', 'VBG'), ('a', 'DT'), ('group', 'NN'), ('called', 'VBD'), ('the', 'DT'), ('super', 'NN'), ('adventure', 'NN'), ('club', 'NN')]\n"
     ]
    }
   ],
   "source": [
    "line = FinalData.Line.iloc[3]\n",
    "tb = TextBlob(line)\n",
    "print(tb.sentiment)\n",
    "print(\"Sentiment:\",tb.sentiment[0],\"Subjectivity:\",tb.sentiment[1])\n",
    "print(type(tb.sentiment))\n",
    "print(tb.tags)"
   ]
  },
  {
   "cell_type": "code",
   "execution_count": 17,
   "metadata": {},
   "outputs": [],
   "source": [
    "polarity = []\n",
    "subjectivity = []\n",
    "tags = []\n",
    "for x in FinalData.Line:\n",
    "    tb = TextBlob(x)\n",
    "    polarity.append(tb.sentiment[0])\n",
    "    subjectivity.append(tb.sentiment[1])\n",
    "    tags.append(tb.tags)"
   ]
  },
  {
   "cell_type": "code",
   "execution_count": 18,
   "metadata": {},
   "outputs": [
    {
     "name": "stdout",
     "output_type": "stream",
     "text": [
      "31505\n",
      "31505\n"
     ]
    }
   ],
   "source": [
    "print(len(polarity))\n",
    "print(len(FinalData))"
   ]
  },
  {
   "cell_type": "code",
   "execution_count": 19,
   "metadata": {},
   "outputs": [
    {
     "name": "stdout",
     "output_type": "stream",
     "text": [
      "  Season Episode Character                                               Line  \\\n",
      "0     10       1      Stan           you guys  you guys  chef is going away     \n",
      "1     10       1      Kyle                          going away  for how long    \n",
      "2     10       1      Stan                                           forever    \n",
      "4     10       1      Stan  chef said he is been bored  so he joining a gr...   \n",
      "9     10       1   Cartman  i am gonna miss him   i am gonna miss chef and...   \n",
      "\n",
      "   tb_polarity  tb_subjectivity  \\\n",
      "0     0.000000         0.000000   \n",
      "1    -0.050000         0.400000   \n",
      "2     0.000000         0.000000   \n",
      "4    -0.083333         0.833333   \n",
      "9     0.000000         0.000000   \n",
      "\n",
      "                                                Tags  \n",
      "0  [(you, PRP), (guys, VBP), (you, PRP), (guys, V...  \n",
      "1  [(going, VBG), (away, RB), (for, IN), (how, WR...  \n",
      "2                                    [(forever, RB)]  \n",
      "4  [(chef, NN), (said, VBD), (he, PRP), (is, VBZ)...  \n",
      "9  [(i, NN), (am, VBP), (gon, VBG), (na, TO), (mi...  \n"
     ]
    },
    {
     "name": "stderr",
     "output_type": "stream",
     "text": [
      "C:\\Users\\dboyd\\Anaconda3\\lib\\site-packages\\ipykernel_launcher.py:1: SettingWithCopyWarning: \n",
      "A value is trying to be set on a copy of a slice from a DataFrame.\n",
      "Try using .loc[row_indexer,col_indexer] = value instead\n",
      "\n",
      "See the caveats in the documentation: http://pandas.pydata.org/pandas-docs/stable/user_guide/indexing.html#returning-a-view-versus-a-copy\n",
      "  \"\"\"Entry point for launching an IPython kernel.\n",
      "C:\\Users\\dboyd\\Anaconda3\\lib\\site-packages\\ipykernel_launcher.py:2: SettingWithCopyWarning: \n",
      "A value is trying to be set on a copy of a slice from a DataFrame.\n",
      "Try using .loc[row_indexer,col_indexer] = value instead\n",
      "\n",
      "See the caveats in the documentation: http://pandas.pydata.org/pandas-docs/stable/user_guide/indexing.html#returning-a-view-versus-a-copy\n",
      "  \n",
      "C:\\Users\\dboyd\\Anaconda3\\lib\\site-packages\\ipykernel_launcher.py:3: SettingWithCopyWarning: \n",
      "A value is trying to be set on a copy of a slice from a DataFrame.\n",
      "Try using .loc[row_indexer,col_indexer] = value instead\n",
      "\n",
      "See the caveats in the documentation: http://pandas.pydata.org/pandas-docs/stable/user_guide/indexing.html#returning-a-view-versus-a-copy\n",
      "  This is separate from the ipykernel package so we can avoid doing imports until\n"
     ]
    }
   ],
   "source": [
    "FinalData['tb_polarity'] = polarity\n",
    "FinalData['tb_subjectivity'] = subjectivity\n",
    "FinalData['Tags'] = tags\n",
    "print(FinalData.head())"
   ]
  },
  {
   "cell_type": "code",
   "execution_count": 20,
   "metadata": {},
   "outputs": [
    {
     "name": "stdout",
     "output_type": "stream",
     "text": [
      "        tb_polarity  tb_subjectivity\n",
      "count  31505.000000     31505.000000\n",
      "mean       0.034739         0.258710\n",
      "std        0.261184         0.329092\n",
      "min       -1.000000         0.000000\n",
      "25%        0.000000         0.000000\n",
      "50%        0.000000         0.000000\n",
      "75%        0.054167         0.517857\n",
      "max        1.000000         1.000000\n"
     ]
    }
   ],
   "source": [
    "print(FinalData.describe())"
   ]
  },
  {
   "cell_type": "code",
   "execution_count": 21,
   "metadata": {},
   "outputs": [
    {
     "name": "stdout",
     "output_type": "stream",
     "text": [
      "{'neg': 0.0, 'neu': 1.0, 'pos': 0.0, 'compound': 0.0}\n"
     ]
    }
   ],
   "source": [
    "vader = SentimentIntensityAnalyzer()\n",
    "line = FinalData.Line[0]\n",
    "print(vader.polarity_scores(line))"
   ]
  },
  {
   "cell_type": "code",
   "execution_count": 22,
   "metadata": {},
   "outputs": [],
   "source": [
    "positive = []\n",
    "negative = []\n",
    "neutral = []\n",
    "vader = SentimentIntensityAnalyzer()\n",
    "for x in FinalData.Line:\n",
    "    line = x\n",
    "    result = vader.polarity_scores(line)\n",
    "    positive.append(result['pos'])\n",
    "    negative.append(result['neg'])\n",
    "    neutral.append(result['neu'])"
   ]
  },
  {
   "cell_type": "code",
   "execution_count": 23,
   "metadata": {},
   "outputs": [
    {
     "name": "stderr",
     "output_type": "stream",
     "text": [
      "C:\\Users\\dboyd\\Anaconda3\\lib\\site-packages\\ipykernel_launcher.py:1: SettingWithCopyWarning: \n",
      "A value is trying to be set on a copy of a slice from a DataFrame.\n",
      "Try using .loc[row_indexer,col_indexer] = value instead\n",
      "\n",
      "See the caveats in the documentation: http://pandas.pydata.org/pandas-docs/stable/user_guide/indexing.html#returning-a-view-versus-a-copy\n",
      "  \"\"\"Entry point for launching an IPython kernel.\n",
      "C:\\Users\\dboyd\\Anaconda3\\lib\\site-packages\\ipykernel_launcher.py:2: SettingWithCopyWarning: \n",
      "A value is trying to be set on a copy of a slice from a DataFrame.\n",
      "Try using .loc[row_indexer,col_indexer] = value instead\n",
      "\n",
      "See the caveats in the documentation: http://pandas.pydata.org/pandas-docs/stable/user_guide/indexing.html#returning-a-view-versus-a-copy\n",
      "  \n",
      "C:\\Users\\dboyd\\Anaconda3\\lib\\site-packages\\ipykernel_launcher.py:3: SettingWithCopyWarning: \n",
      "A value is trying to be set on a copy of a slice from a DataFrame.\n",
      "Try using .loc[row_indexer,col_indexer] = value instead\n",
      "\n",
      "See the caveats in the documentation: http://pandas.pydata.org/pandas-docs/stable/user_guide/indexing.html#returning-a-view-versus-a-copy\n",
      "  This is separate from the ipykernel package so we can avoid doing imports until\n"
     ]
    }
   ],
   "source": [
    "FinalData['Vader_Pos'] = positive\n",
    "FinalData['Vader_Neg'] = negative\n",
    "FinalData['Vader_Neu'] = neutral"
   ]
  },
  {
   "cell_type": "code",
   "execution_count": 24,
   "metadata": {},
   "outputs": [
    {
     "name": "stdout",
     "output_type": "stream",
     "text": [
      "  Season Episode Character                                               Line  \\\n",
      "0     10       1      Stan           you guys  you guys  chef is going away     \n",
      "1     10       1      Kyle                          going away  for how long    \n",
      "2     10       1      Stan                                           forever    \n",
      "4     10       1      Stan  chef said he is been bored  so he joining a gr...   \n",
      "9     10       1   Cartman  i am gonna miss him   i am gonna miss chef and...   \n",
      "\n",
      "   tb_polarity  tb_subjectivity  \\\n",
      "0     0.000000         0.000000   \n",
      "1    -0.050000         0.400000   \n",
      "2     0.000000         0.000000   \n",
      "4    -0.083333         0.833333   \n",
      "9     0.000000         0.000000   \n",
      "\n",
      "                                                Tags  Vader_Pos  Vader_Neg  \\\n",
      "0  [(you, PRP), (guys, VBP), (you, PRP), (guys, V...      0.000      0.000   \n",
      "1  [(going, VBG), (away, RB), (for, IN), (how, WR...      0.000      0.000   \n",
      "2                                    [(forever, RB)]      0.000      0.000   \n",
      "4  [(chef, NN), (said, VBD), (he, PRP), (is, VBZ)...      0.291      0.099   \n",
      "9  [(i, NN), (am, VBP), (gon, VBG), (na, TO), (mi...      0.000      0.144   \n",
      "\n",
      "   Vader_Neu  \n",
      "0      1.000  \n",
      "1      1.000  \n",
      "2      1.000  \n",
      "4      0.610  \n",
      "9      0.856  \n",
      "        tb_polarity  tb_subjectivity     Vader_Pos     Vader_Neg     Vader_Neu\n",
      "count  31505.000000     31505.000000  31505.000000  31505.000000  31505.000000\n",
      "mean       0.034739         0.258710      0.128996      0.092249      0.778755\n",
      "std        0.261184         0.329092      0.214115      0.177583      0.252071\n",
      "min       -1.000000         0.000000      0.000000      0.000000      0.000000\n",
      "25%        0.000000         0.000000      0.000000      0.000000      0.645000\n",
      "50%        0.000000         0.000000      0.000000      0.000000      0.833000\n",
      "75%        0.054167         0.517857      0.198000      0.129000      1.000000\n",
      "max        1.000000         1.000000      1.000000      1.000000      1.000000\n"
     ]
    }
   ],
   "source": [
    "print(FinalData.head())\n",
    "print(FinalData.describe())"
   ]
  },
  {
   "cell_type": "code",
   "execution_count": 25,
   "metadata": {},
   "outputs": [],
   "source": [
    "words = []\n",
    "for x in FinalData.Line:\n",
    "    length = x.split(' ')\n",
    "    count = len(length)\n",
    "    words.append(count)"
   ]
  },
  {
   "cell_type": "code",
   "execution_count": 26,
   "metadata": {},
   "outputs": [
    {
     "name": "stderr",
     "output_type": "stream",
     "text": [
      "C:\\Users\\dboyd\\Anaconda3\\lib\\site-packages\\ipykernel_launcher.py:1: SettingWithCopyWarning: \n",
      "A value is trying to be set on a copy of a slice from a DataFrame.\n",
      "Try using .loc[row_indexer,col_indexer] = value instead\n",
      "\n",
      "See the caveats in the documentation: http://pandas.pydata.org/pandas-docs/stable/user_guide/indexing.html#returning-a-view-versus-a-copy\n",
      "  \"\"\"Entry point for launching an IPython kernel.\n"
     ]
    }
   ],
   "source": [
    "FinalData['Word_Count'] = words"
   ]
  },
  {
   "cell_type": "code",
   "execution_count": 29,
   "metadata": {},
   "outputs": [
    {
     "name": "stderr",
     "output_type": "stream",
     "text": [
      "C:\\Users\\dboyd\\Anaconda3\\lib\\site-packages\\ipykernel_launcher.py:1: SettingWithCopyWarning: \n",
      "A value is trying to be set on a copy of a slice from a DataFrame.\n",
      "Try using .loc[row_indexer,col_indexer] = value instead\n",
      "\n",
      "See the caveats in the documentation: http://pandas.pydata.org/pandas-docs/stable/user_guide/indexing.html#returning-a-view-versus-a-copy\n",
      "  \"\"\"Entry point for launching an IPython kernel.\n"
     ]
    }
   ],
   "source": [
    "FinalData['Vader_Net'] = FinalData.Vader_Pos - FinalData.Vader_Neg"
   ]
  },
  {
   "cell_type": "code",
   "execution_count": 30,
   "metadata": {},
   "outputs": [
    {
     "name": "stdout",
     "output_type": "stream",
     "text": [
      "  Season Episode Character                                               Line  \\\n",
      "0     10       1      Stan           you guys  you guys  chef is going away     \n",
      "1     10       1      Kyle                          going away  for how long    \n",
      "2     10       1      Stan                                           forever    \n",
      "4     10       1      Stan  chef said he is been bored  so he joining a gr...   \n",
      "9     10       1   Cartman  i am gonna miss him   i am gonna miss chef and...   \n",
      "\n",
      "   tb_polarity  tb_subjectivity  \\\n",
      "0     0.000000         0.000000   \n",
      "1    -0.050000         0.400000   \n",
      "2     0.000000         0.000000   \n",
      "4    -0.083333         0.833333   \n",
      "9     0.000000         0.000000   \n",
      "\n",
      "                                                Tags  Vader_Pos  Vader_Neg  \\\n",
      "0  [(you, PRP), (guys, VBP), (you, PRP), (guys, V...      0.000      0.000   \n",
      "1  [(going, VBG), (away, RB), (for, IN), (how, WR...      0.000      0.000   \n",
      "2                                    [(forever, RB)]      0.000      0.000   \n",
      "4  [(chef, NN), (said, VBD), (he, PRP), (is, VBZ)...      0.291      0.099   \n",
      "9  [(i, NN), (am, VBP), (gon, VBG), (na, TO), (mi...      0.000      0.144   \n",
      "\n",
      "   Vader_Neu  Word_Count  Vader_Net  \n",
      "0      1.000          12      0.000  \n",
      "1      1.000           7      0.000  \n",
      "2      1.000           2      0.000  \n",
      "4      0.610          19      0.192  \n",
      "9      0.856          27     -0.144  \n"
     ]
    }
   ],
   "source": [
    "print(FinalData.head())"
   ]
  },
  {
   "cell_type": "code",
   "execution_count": 31,
   "metadata": {},
   "outputs": [
    {
     "name": "stdout",
     "output_type": "stream",
     "text": [
      "0        [(you, PRP), (guys, VBP), (you, PRP), (guys, V...\n",
      "1        [(going, VBG), (away, RB), (for, IN), (how, WR...\n",
      "2                                          [(forever, RB)]\n",
      "4        [(chef, NN), (said, VBD), (he, PRP), (is, VBZ)...\n",
      "9        [(i, NN), (am, VBP), (gon, VBG), (na, TO), (mi...\n",
      "                               ...                        \n",
      "70891    [(i, NN), (think, VBP), (you, PRP), (are, VBP)...\n",
      "70892              [(how, WRB), (about, IN), (twenty, NN)]\n",
      "70893    [(that, DT), (is, VBZ), (not, RB), (disciprine...\n",
      "70894    [(right, RB), (right, NN), (does, VBZ), (vodka...\n",
      "70895                                          [(dad, NN)]\n",
      "Name: Tags, Length: 31505, dtype: object\n"
     ]
    }
   ],
   "source": [
    "print(FinalData.Tags)"
   ]
  },
  {
   "cell_type": "code",
   "execution_count": 32,
   "metadata": {},
   "outputs": [],
   "source": [
    "FinalData.reset_index(drop = True, inplace = True)"
   ]
  },
  {
   "cell_type": "code",
   "execution_count": 33,
   "metadata": {},
   "outputs": [],
   "source": [
    "emotions = {}\n",
    "for t in FinalData.Tags:\n",
    "    for x in t:\n",
    "        if x[1] not in emotions.keys():\n",
    "            emotions[str(x[1])] = 1\n",
    "        else:\n",
    "            emotions[x[1]] += 1"
   ]
  },
  {
   "cell_type": "code",
   "execution_count": 34,
   "metadata": {},
   "outputs": [
    {
     "name": "stdout",
     "output_type": "stream",
     "text": [
      "{'PRP': 34210, 'VBP': 24752, 'NN': 69856, 'VBZ': 13487, 'VBG': 7900, 'RB': 28242, 'IN': 26972, 'WRB': 2978, 'JJ': 24711, 'VBD': 9389, 'VBN': 5133, 'DT': 27120, 'TO': 9413, 'VB': 26443, 'CC': 7605, 'PRP$': 6902, 'CD': 2270, 'MD': 6855, 'UH': 1535, 'WP': 4254, 'NNS': 14920, 'JJR': 726, 'RP': 2833, 'WDT': 1688, 'POS': 1999, 'PDT': 527, 'RBR': 309, 'EX': 1044, 'JJS': 521, 'FW': 92, 'NNP': 96, 'RBS': 79, 'WP$': 13, 'NNPS': 3}\n"
     ]
    }
   ],
   "source": [
    "print(emotions)"
   ]
  },
  {
   "cell_type": "code",
   "execution_count": 35,
   "metadata": {},
   "outputs": [],
   "source": [
    "listofdics = []\n",
    "for x in FinalData.Tags:\n",
    "    t = {}\n",
    "    for j in x:\n",
    "        if j[1] not in t.keys():\n",
    "            t[str(j[1])] = 1\n",
    "        else:\n",
    "            t[j[1]] += 1\n",
    "    listofdics.append(t)"
   ]
  },
  {
   "cell_type": "code",
   "execution_count": 36,
   "metadata": {},
   "outputs": [
    {
     "name": "stderr",
     "output_type": "stream",
     "text": [
      "C:\\Users\\dboyd\\Anaconda3\\lib\\site-packages\\ipykernel_launcher.py:1: SettingWithCopyWarning: \n",
      "A value is trying to be set on a copy of a slice from a DataFrame.\n",
      "Try using .loc[row_indexer,col_indexer] = value instead\n",
      "\n",
      "See the caveats in the documentation: http://pandas.pydata.org/pandas-docs/stable/user_guide/indexing.html#returning-a-view-versus-a-copy\n",
      "  \"\"\"Entry point for launching an IPython kernel.\n"
     ]
    }
   ],
   "source": [
    "FinalData['Part_of_Speech'] = listofdics"
   ]
  },
  {
   "cell_type": "code",
   "execution_count": 37,
   "metadata": {},
   "outputs": [
    {
     "name": "stdout",
     "output_type": "stream",
     "text": [
      "  Season Episode Character                                               Line  \\\n",
      "0     10       1      Stan           you guys  you guys  chef is going away     \n",
      "1     10       1      Kyle                          going away  for how long    \n",
      "2     10       1      Stan                                           forever    \n",
      "3     10       1      Stan  chef said he is been bored  so he joining a gr...   \n",
      "4     10       1   Cartman  i am gonna miss him   i am gonna miss chef and...   \n",
      "\n",
      "   tb_polarity  tb_subjectivity  \\\n",
      "0     0.000000         0.000000   \n",
      "1    -0.050000         0.400000   \n",
      "2     0.000000         0.000000   \n",
      "3    -0.083333         0.833333   \n",
      "4     0.000000         0.000000   \n",
      "\n",
      "                                                Tags  Vader_Pos  Vader_Neg  \\\n",
      "0  [(you, PRP), (guys, VBP), (you, PRP), (guys, V...      0.000      0.000   \n",
      "1  [(going, VBG), (away, RB), (for, IN), (how, WR...      0.000      0.000   \n",
      "2                                    [(forever, RB)]      0.000      0.000   \n",
      "3  [(chef, NN), (said, VBD), (he, PRP), (is, VBZ)...      0.291      0.099   \n",
      "4  [(i, NN), (am, VBP), (gon, VBG), (na, TO), (mi...      0.000      0.144   \n",
      "\n",
      "   Vader_Neu  Word_Count  Vader_Net  \\\n",
      "0      1.000          12      0.000   \n",
      "1      1.000           7      0.000   \n",
      "2      1.000           2      0.000   \n",
      "3      0.610          19      0.192   \n",
      "4      0.856          27     -0.144   \n",
      "\n",
      "                                      Part_of_Speech  \n",
      "0  {'PRP': 2, 'VBP': 2, 'NN': 1, 'VBZ': 1, 'VBG':...  \n",
      "1    {'VBG': 1, 'RB': 1, 'IN': 1, 'WRB': 1, 'JJ': 1}  \n",
      "2                                          {'RB': 1}  \n",
      "3  {'NN': 5, 'VBD': 2, 'PRP': 2, 'VBZ': 1, 'VBN':...  \n",
      "4  {'NN': 4, 'VBP': 3, 'VBG': 2, 'TO': 3, 'VB': 5...  \n"
     ]
    }
   ],
   "source": [
    "print(FinalData.head())"
   ]
  },
  {
   "cell_type": "code",
   "execution_count": 38,
   "metadata": {},
   "outputs": [
    {
     "name": "stdout",
     "output_type": "stream",
     "text": [
      "27\n"
     ]
    }
   ],
   "source": [
    "long = []\n",
    "for x in FinalData.Part_of_Speech:\n",
    "    long.append(len(x))\n",
    "print(max(long))"
   ]
  },
  {
   "cell_type": "code",
   "execution_count": 39,
   "metadata": {},
   "outputs": [
    {
     "name": "stderr",
     "output_type": "stream",
     "text": [
      "C:\\Users\\dboyd\\Anaconda3\\lib\\site-packages\\ipykernel_launcher.py:1: SettingWithCopyWarning: \n",
      "A value is trying to be set on a copy of a slice from a DataFrame.\n",
      "Try using .loc[row_indexer,col_indexer] = value instead\n",
      "\n",
      "See the caveats in the documentation: http://pandas.pydata.org/pandas-docs/stable/user_guide/indexing.html#returning-a-view-versus-a-copy\n",
      "  \"\"\"Entry point for launching an IPython kernel.\n"
     ]
    }
   ],
   "source": [
    "FinalData['#_PoS'] = long"
   ]
  },
  {
   "cell_type": "code",
   "execution_count": 40,
   "metadata": {},
   "outputs": [
    {
     "name": "stdout",
     "output_type": "stream",
     "text": [
      "  Season Episode Character                                               Line  \\\n",
      "0     10       1      Stan           you guys  you guys  chef is going away     \n",
      "1     10       1      Kyle                          going away  for how long    \n",
      "2     10       1      Stan                                           forever    \n",
      "3     10       1      Stan  chef said he is been bored  so he joining a gr...   \n",
      "4     10       1   Cartman  i am gonna miss him   i am gonna miss chef and...   \n",
      "\n",
      "   tb_polarity  tb_subjectivity  \\\n",
      "0     0.000000         0.000000   \n",
      "1    -0.050000         0.400000   \n",
      "2     0.000000         0.000000   \n",
      "3    -0.083333         0.833333   \n",
      "4     0.000000         0.000000   \n",
      "\n",
      "                                                Tags  Vader_Pos  Vader_Neg  \\\n",
      "0  [(you, PRP), (guys, VBP), (you, PRP), (guys, V...      0.000      0.000   \n",
      "1  [(going, VBG), (away, RB), (for, IN), (how, WR...      0.000      0.000   \n",
      "2                                    [(forever, RB)]      0.000      0.000   \n",
      "3  [(chef, NN), (said, VBD), (he, PRP), (is, VBZ)...      0.291      0.099   \n",
      "4  [(i, NN), (am, VBP), (gon, VBG), (na, TO), (mi...      0.000      0.144   \n",
      "\n",
      "   Vader_Neu  Word_Count  Vader_Net  \\\n",
      "0      1.000          12      0.000   \n",
      "1      1.000           7      0.000   \n",
      "2      1.000           2      0.000   \n",
      "3      0.610          19      0.192   \n",
      "4      0.856          27     -0.144   \n",
      "\n",
      "                                      Part_of_Speech  #_PoS  \n",
      "0  {'PRP': 2, 'VBP': 2, 'NN': 1, 'VBZ': 1, 'VBG':...      6  \n",
      "1    {'VBG': 1, 'RB': 1, 'IN': 1, 'WRB': 1, 'JJ': 1}      5  \n",
      "2                                          {'RB': 1}      1  \n",
      "3  {'NN': 5, 'VBD': 2, 'PRP': 2, 'VBZ': 1, 'VBN':...      8  \n",
      "4  {'NN': 4, 'VBP': 3, 'VBG': 2, 'TO': 3, 'VB': 5...      9  \n"
     ]
    }
   ],
   "source": [
    "print(FinalData.head())"
   ]
  },
  {
   "cell_type": "code",
   "execution_count": 41,
   "metadata": {},
   "outputs": [
    {
     "name": "stdout",
     "output_type": "stream",
     "text": [
      "  Season Episode Character                                               Line  \\\n",
      "0     10       1      Stan           you guys  you guys  chef is going away     \n",
      "1     10       1      Kyle                          going away  for how long    \n",
      "2     10       1      Stan                                           forever    \n",
      "3     10       1      Stan  chef said he is been bored  so he joining a gr...   \n",
      "4     10       1   Cartman  i am gonna miss him   i am gonna miss chef and...   \n",
      "\n",
      "   tb_polarity  tb_subjectivity  \\\n",
      "0     0.000000         0.000000   \n",
      "1    -0.050000         0.400000   \n",
      "2     0.000000         0.000000   \n",
      "3    -0.083333         0.833333   \n",
      "4     0.000000         0.000000   \n",
      "\n",
      "                                                Tags  Vader_Pos  Vader_Neg  \\\n",
      "0  [(you, PRP), (guys, VBP), (you, PRP), (guys, V...      0.000      0.000   \n",
      "1  [(going, VBG), (away, RB), (for, IN), (how, WR...      0.000      0.000   \n",
      "2                                    [(forever, RB)]      0.000      0.000   \n",
      "3  [(chef, NN), (said, VBD), (he, PRP), (is, VBZ)...      0.291      0.099   \n",
      "4  [(i, NN), (am, VBP), (gon, VBG), (na, TO), (mi...      0.000      0.144   \n",
      "\n",
      "   Vader_Neu  Word_Count  Vader_Net  \\\n",
      "0      1.000          12      0.000   \n",
      "1      1.000           7      0.000   \n",
      "2      1.000           2      0.000   \n",
      "3      0.610          19      0.192   \n",
      "4      0.856          27     -0.144   \n",
      "\n",
      "                                      Part_of_Speech  #_PoS  \n",
      "0  {'PRP': 2, 'VBP': 2, 'NN': 1, 'VBZ': 1, 'VBG':...      6  \n",
      "1    {'VBG': 1, 'RB': 1, 'IN': 1, 'WRB': 1, 'JJ': 1}      5  \n",
      "2                                          {'RB': 1}      1  \n",
      "3  {'NN': 5, 'VBD': 2, 'PRP': 2, 'VBZ': 1, 'VBN':...      8  \n",
      "4  {'NN': 4, 'VBP': 3, 'VBG': 2, 'TO': 3, 'VB': 5...      9  \n"
     ]
    }
   ],
   "source": [
    "# we can take this dataset to tableau to finsh it up\n",
    "print(FinalData.head())\n",
    "FinalData.to_csv('FinalData.csv', index = False)"
   ]
  },
  {
   "cell_type": "code",
   "execution_count": null,
   "metadata": {},
   "outputs": [],
   "source": [
    "# wordcloud for the entire dataset\n",
    "stopwords = STOPWORDS\n",
    "comment_words = ''\n",
    "for x in FinalData.Line:\n",
    "    t = x.split()\n",
    "    for i in range(len(t)):\n",
    "        t[i] = t[i].lower()\n",
    "    \n",
    "    comment_words += \" \".join(t)+\" \"\n",
    "wordcloud = WordCloud(width = 800, height = 800, background_color = 'white', stopwords = STOPWORDS, min_font_size = 10).generate(comment_words)\n",
    "plt.figure(figsize = (8, 8), facecolor = None) \n",
    "plt.imshow(wordcloud) \n",
    "plt.axis(\"off\") \n",
    "plt.tight_layout(pad = 0) \n",
    "  \n",
    "plt.show()"
   ]
  },
  {
   "cell_type": "code",
   "execution_count": 42,
   "metadata": {},
   "outputs": [
    {
     "name": "stdout",
     "output_type": "stream",
     "text": [
      "4\n",
      "7\n",
      "['Stan', 'Kyle', 'Cartman', 'Randy', 'Kenny', 'Butters', 'Mr. Garrison']\n"
     ]
    }
   ],
   "source": [
    "g = list(FinalData.Character.unique())\n",
    "print(g.index('Kenny'))\n",
    "print(len(g))\n",
    "print(g)"
   ]
  },
  {
   "cell_type": "code",
   "execution_count": null,
   "metadata": {},
   "outputs": [],
   "source": [
    "# wordcloud for each character\n",
    "fig = plt.figure(figsize = (20,20), facecolor = None)\n",
    "for t in list(FinalData.Character.unique()):\n",
    "    stopwords = STOPWORDS\n",
    "    comment_words = ''\n",
    "    for x in FinalData.Line[FinalData.Character == t]:\n",
    "        z = x.split()\n",
    "        for i in range(len(z)):\n",
    "            z[i] = z[i].lower()\n",
    "    \n",
    "        comment_words += \" \".join(z)+\" \"\n",
    "    wordcloud = WordCloud(width = 800, height = 800, background_color = 'white', stopwords = STOPWORDS, min_font_size = 10).generate(comment_words)\n",
    "    wordcloud.to_file(t+\"_wordcloud.png\")\n",
    "    fig.add_subplot(4,2,list(FinalData.Character.unique()).index(t) + 1)\n",
    "    plt.title(t + \" WordCloud\")\n",
    "    plt.imshow(wordcloud) \n",
    "    plt.axis('off')\n",
    "  \n",
    "    plt.show()"
   ]
  },
  {
   "cell_type": "code",
   "execution_count": 43,
   "metadata": {},
   "outputs": [],
   "source": [
    "def get_tb_polarity(text):\n",
    "    tb = TextBlob(text)\n",
    "    polarity= tb.sentiment[0]\n",
    "    return polarity\n",
    "def get_tb_subjectivity(text):\n",
    "    tb = TextBlob(text)\n",
    "    subjectivity = tb.sentiment[1]\n",
    "    return subjectivity\n",
    "def get_vader_pos(text):\n",
    "    result = vader.polarity_scores(text)\n",
    "    return result['pos']\n",
    "def get_vader_neg(text):\n",
    "    result = vader.polarity_scores(text)\n",
    "    return result['neg']\n",
    "def get_vader_neu(text):\n",
    "    result = vader.polarity_scores(text)\n",
    "    return result['neu']\n",
    "def get_review_length(text):\n",
    "    x = text.split(' ')\n",
    "    length = len(x)\n",
    "    return length"
   ]
  },
  {
   "cell_type": "code",
   "execution_count": 69,
   "metadata": {},
   "outputs": [],
   "source": [
    "class CustomFeats(BaseEstimator, TransformerMixin):\n",
    "    def __init__(self):\n",
    "      self.feat_names = set()\n",
    "\n",
    "    def fit(self, x, y=None):\n",
    "        return self\n",
    "\n",
    "    @staticmethod\n",
    "    def features(line):\n",
    "      return {\n",
    "          'tb_polarity': get_tb_polarity(line),\n",
    "          'tb_subjectivity': get_tb_subjectivity(line),\n",
    "          'Vader_Pos':get_vader_pos(line),\n",
    "          'Vader_Neg':get_vader_neg(line),\n",
    "          'Vader_Neu':get_vader_neu(line),\n",
    "          'Review_Length': get_review_length(line)\n",
    "      }\n",
    "\n",
    "    def get_feature_names(self):\n",
    "        return list(self.feat_names)\n",
    "      \n",
    "    def transform(self, lines):\n",
    "      feats = []\n",
    "      for line in lines:\n",
    "        f = self.features(line)\n",
    "        [self.feat_names.add(k) for k in f] \n",
    "        feats.append(f)\n",
    "      return feats\n",
    "\n",
    "features = FeatureUnion([\n",
    "     ('custom', make_pipeline(CustomFeats(), DictVectorizer())),\n",
    "     ('bag_of_words', TfidfVectorizer(ngram_range = (0,1), stop_words = 'english'))\n",
    " ])"
   ]
  },
  {
   "cell_type": "code",
   "execution_count": 45,
   "metadata": {},
   "outputs": [
    {
     "name": "stdout",
     "output_type": "stream",
     "text": [
      "['Stan' 'Kyle' 'Cartman' 'Randy' 'Kenny' 'Butters' 'Mr. Garrison']\n",
      "      Character                                               Line\n",
      "29655         2                                                ah \n",
      "21013         2                           hey  what are you doing \n",
      "1768          3  of course i was right  i told you only poor pe...\n",
      "30887         3                               because i do  clyde \n",
      "2322          4  thanks for the news flash  i have not taken a ...\n",
      "...         ...                                                ...\n",
      "29802         1                                              woof \n",
      "5390          3           we were talking about wales the country \n",
      "860           3  all right  kenny  drink your elixir of the mon...\n",
      "15795         4  i  uh  got a note from stanley to come out to ...\n",
      "23654         6                   wwell  kkinda like cartman   aw \n",
      "\n",
      "[22053 rows x 2 columns]       Character                                               Line\n",
      "31437         1     dad  you are drunk  you are not driving a car \n",
      "9347          4  stan  you got something from amazon   oh   ooo...\n",
      "22267         1  ah  well  we were thinking how cool it would b...\n",
      "17556         1                       come on  tweek  you got him \n",
      "2898          1  cannot we just talk to all the girls who made ...\n",
      "...         ...                                                ...\n",
      "29785         3                                             heheh \n",
      "15057         3  byeh  sure  well  you show me one independent ...\n",
      "17895         4  yeah  well uh  sorry we had to bring the kid a...\n",
      "13524         3  yeah   well i sneaked around my mom's closet t...\n",
      "11204         1  yeah  well  i just could not sit around while ...\n",
      "\n",
      "[9452 rows x 2 columns]\n"
     ]
    },
    {
     "name": "stderr",
     "output_type": "stream",
     "text": [
      "C:\\Users\\dboyd\\Anaconda3\\lib\\site-packages\\pandas\\core\\generic.py:6702: SettingWithCopyWarning: \n",
      "A value is trying to be set on a copy of a slice from a DataFrame.\n",
      "Try using .loc[row_indexer,col_indexer] = value instead\n",
      "\n",
      "See the caveats in the documentation: http://pandas.pydata.org/pandas-docs/stable/user_guide/indexing.html#returning-a-view-versus-a-copy\n",
      "  regex=regex,\n"
     ]
    }
   ],
   "source": [
    "# might not need this\n",
    "# if we decide to cluster as a supervised learning model, but I think we should stay unsupervised \n",
    "print(FinalData.Character.unique())\n",
    "names_to_clusters = {'Stan':1,'Kyle':2,'Cartman':3,'Randy':4,'Kenny':5,'Butters':6,'Mr. Garrsion':7}\n",
    "DataForCluster = FinalData[['Character','Line']]\n",
    "DataForCluster.replace({'Character':names_to_clusters}, inplace = True)\n",
    "train, test = train_test_split(DataForCluster,  test_size = .3, random_state = 42)\n",
    "print(train, test)"
   ]
  },
  {
   "cell_type": "code",
   "execution_count": 47,
   "metadata": {},
   "outputs": [
    {
     "data": {
      "image/png": "[encoded data removed]",
      "text/plain": [
       "<Figure size 720x576 with 1 Axes>"
      ]
     },
     "metadata": {
      "needs_background": "light"
     },
     "output_type": "display_data"
    }
   ],
   "source": [
    "# let's build a clustering model to put together similar Lines by sentiment and other variables (unsupervised learning - no target, just want to see how they group)\n",
    "plt.figure(figsize = (10,8))\n",
    "inertia = []\n",
    "vader = SentimentIntensityAnalyzer()\n",
    "for x in range(1,10):\n",
    "    kmeans = KMeans(n_clusters = x, init = 'k-means++', random_state = 42)\n",
    "    pipeline = make_pipeline(features, kmeans)\n",
    "    pipeline.fit(FinalData.Line)\n",
    "    inertia.append(pipeline.named_steps['kmeans'].inertia_)\n",
    "plt.plot(range(1,10), inertia)\n",
    "plt.show()"
   ]
  },
  {
   "cell_type": "code",
   "execution_count": 89,
   "metadata": {},
   "outputs": [
    {
     "name": "stdout",
     "output_type": "stream",
     "text": [
      "[1 1 1 ... 1 1 1]\n"
     ]
    }
   ],
   "source": [
    "# looks like we are doing well at 4 or 5 clusters, this will be mainly focused on the sentiment scores\n",
    "kmeans = KMeans(n_clusters = 4, init = 'k-means++', random_state = 42)\n",
    "pipeline = make_pipeline(features, kmeans)\n",
    "pipeline.fit(FinalData.Line)\n",
    "clusters = pipeline.predict(FinalData.Line)\n",
    "print(clusters)"
   ]
  },
  {
   "cell_type": "code",
   "execution_count": 90,
   "metadata": {},
   "outputs": [
    {
     "name": "stdout",
     "output_type": "stream",
     "text": [
      "1    20649\n",
      "0     8766\n",
      "3     1833\n",
      "2      257\n",
      "Name: Cluster, dtype: int64\n"
     ]
    },
    {
     "name": "stderr",
     "output_type": "stream",
     "text": [
      "C:\\Users\\dboyd\\Anaconda3\\lib\\site-packages\\ipykernel_launcher.py:2: SettingWithCopyWarning: \n",
      "A value is trying to be set on a copy of a slice from a DataFrame.\n",
      "Try using .loc[row_indexer,col_indexer] = value instead\n",
      "\n",
      "See the caveats in the documentation: http://pandas.pydata.org/pandas-docs/stable/user_guide/indexing.html#returning-a-view-versus-a-copy\n",
      "  \n"
     ]
    }
   ],
   "source": [
    "clusters = clusters.tolist()\n",
    "FinalData['Cluster'] = clusters\n",
    "print(FinalData.Cluster.value_counts())"
   ]
  },
  {
   "cell_type": "code",
   "execution_count": 77,
   "metadata": {},
   "outputs": [
    {
     "name": "stderr",
     "output_type": "stream",
     "text": [
      "C:\\Users\\dboyd\\Anaconda3\\lib\\site-packages\\pandas\\core\\frame.py:4117: SettingWithCopyWarning: \n",
      "A value is trying to be set on a copy of a slice from a DataFrame\n",
      "\n",
      "See the caveats in the documentation: http://pandas.pydata.org/pandas-docs/stable/user_guide/indexing.html#returning-a-view-versus-a-copy\n",
      "  errors=errors,\n"
     ]
    }
   ],
   "source": [
    "#FinalData.drop('Cluster', inplace = True, axis = 1)"
   ]
  },
  {
   "cell_type": "code",
   "execution_count": 91,
   "metadata": {},
   "outputs": [
    {
     "name": "stdout",
     "output_type": "stream",
     "text": [
      "       tb_polarity  tb_subjectivity    Vader_Pos    Vader_Neg    Vader_Neu  \\\n",
      "count  8766.000000      8766.000000  8766.000000  8766.000000  8766.000000   \n",
      "mean      0.048624         0.363020     0.113122     0.083217     0.803664   \n",
      "std       0.294412         0.326623     0.123972     0.113760     0.149782   \n",
      "min      -1.000000         0.000000     0.000000     0.000000     0.042000   \n",
      "25%       0.000000         0.000000     0.000000     0.000000     0.701000   \n",
      "50%       0.000000         0.383333     0.099000     0.000000     0.815000   \n",
      "75%       0.200000         0.600000     0.184000     0.155000     0.913000   \n",
      "max       1.000000         1.000000     0.958000     0.770000     1.000000   \n",
      "\n",
      "        Word_Count    Vader_Net        #_PoS  Cluster  \n",
      "count  8766.000000  8766.000000  8766.000000   8766.0  \n",
      "mean     21.581223     0.029905    10.084417      0.0  \n",
      "std       5.475347     0.184895     2.300364      0.0  \n",
      "min      15.000000    -0.770000     1.000000      0.0  \n",
      "25%      17.000000    -0.077000     9.000000      0.0  \n",
      "50%      20.000000     0.000000    10.000000      0.0  \n",
      "75%      25.000000     0.152000    12.000000      0.0  \n",
      "max      35.000000     0.958000    18.000000      0.0  \n",
      "        tb_polarity  tb_subjectivity     Vader_Pos     Vader_Neg  \\\n",
      "count  20649.000000     20649.000000  20649.000000  20649.000000   \n",
      "mean       0.024736         0.191227      0.137579      0.096975   \n",
      "std        0.244068         0.315517      0.249797      0.204532   \n",
      "min       -1.000000         0.000000      0.000000      0.000000   \n",
      "25%        0.000000         0.000000      0.000000      0.000000   \n",
      "50%        0.000000         0.000000      0.000000      0.000000   \n",
      "75%        0.000000         0.400000      0.223000      0.000000   \n",
      "max        1.000000         1.000000      1.000000      1.000000   \n",
      "\n",
      "          Vader_Neu    Word_Count     Vader_Net         #_PoS  Cluster  \n",
      "count  20649.000000  20649.000000  20649.000000  20649.000000  20649.0  \n",
      "mean       0.765446      7.428398      0.040604      4.315851      1.0  \n",
      "std        0.292814      3.599329      0.350319      2.439385      0.0  \n",
      "min        0.000000      1.000000     -1.000000      1.000000      1.0  \n",
      "25%        0.577000      4.000000      0.000000      2.000000      1.0  \n",
      "50%        1.000000      7.000000      0.000000      4.000000      1.0  \n",
      "75%        1.000000     10.000000      0.174000      6.000000      1.0  \n",
      "max        1.000000     14.000000      1.000000     13.000000      1.0  \n",
      "       tb_polarity  tb_subjectivity   Vader_Pos   Vader_Neg   Vader_Neu  \\\n",
      "count   257.000000       257.000000  257.000000  257.000000  257.000000   \n",
      "mean      0.087477         0.521360    0.118054    0.085914    0.796023   \n",
      "std       0.205357         0.151891    0.077260    0.069355    0.092346   \n",
      "min      -0.566667         0.025000    0.000000    0.000000    0.424000   \n",
      "25%      -0.044411         0.430000    0.064000    0.035000    0.750000   \n",
      "50%       0.097500         0.535357    0.105000    0.072000    0.806000   \n",
      "75%       0.233333         0.616667    0.159000    0.124000    0.854000   \n",
      "max       0.700000         0.933333    0.449000    0.456000    1.000000   \n",
      "\n",
      "       Word_Count   Vader_Net       #_PoS  Cluster  \n",
      "count  257.000000  257.000000  257.000000    257.0  \n",
      "mean   119.821012    0.032140   19.031128      2.0  \n",
      "std     40.952992    0.114155    2.297885      0.0  \n",
      "min     85.000000   -0.336000   13.000000      2.0  \n",
      "25%     94.000000   -0.044000   17.000000      2.0  \n",
      "50%    107.000000    0.032000   19.000000      2.0  \n",
      "75%    129.000000    0.108000   21.000000      2.0  \n",
      "max    381.000000    0.433000   27.000000      2.0  \n",
      "       tb_polarity  tb_subjectivity    Vader_Pos    Vader_Neg    Vader_Neu  \\\n",
      "count  1833.000000      1833.000000  1833.000000  1833.000000  1833.000000   \n",
      "mean      0.073630         0.483236     0.109760     0.083093     0.807142   \n",
      "std       0.277775         0.251491     0.091163     0.086534     0.109386   \n",
      "min      -1.000000         0.000000     0.000000     0.000000     0.356000   \n",
      "25%      -0.066667         0.345238     0.045000     0.000000     0.734000   \n",
      "50%       0.050000         0.500000     0.095000     0.065000     0.810000   \n",
      "75%       0.250000         0.646667     0.161000     0.134000     0.889000   \n",
      "max       1.000000         1.000000     0.592000     0.618000     1.000000   \n",
      "\n",
      "        Word_Count    Vader_Net        #_PoS  Cluster  \n",
      "count  1833.000000  1833.000000  1833.000000   1833.0  \n",
      "mean     48.795963     0.026667    14.584288      3.0  \n",
      "std      11.763538     0.140117     2.303314      0.0  \n",
      "min      36.000000    -0.593000     4.000000      3.0  \n",
      "25%      39.000000    -0.064000    13.000000      3.0  \n",
      "50%      45.000000     0.021000    15.000000      3.0  \n",
      "75%      54.000000     0.112000    16.000000      3.0  \n",
      "max      84.000000     0.592000    23.000000      3.0  \n"
     ]
    }
   ],
   "source": [
    "print(FinalData[FinalData.Cluster == 0].describe())\n",
    "print(FinalData[FinalData.Cluster == 1].describe())\n",
    "print(FinalData[FinalData.Cluster == 2].describe())\n",
    "print(FinalData[FinalData.Cluster == 3].describe())"
   ]
  },
  {
   "cell_type": "code",
   "execution_count": 94,
   "metadata": {},
   "outputs": [
    {
     "name": "stdout",
     "output_type": "stream",
     "text": [
      "  Season Episode Character                                               Line  \\\n",
      "0     10       1      Stan           you guys  you guys  chef is going away     \n",
      "1     10       1      Kyle                          going away  for how long    \n",
      "2     10       1      Stan                                           forever    \n",
      "3     10       1      Stan  chef said he is been bored  so he joining a gr...   \n",
      "4     10       1   Cartman  i am gonna miss him   i am gonna miss chef and...   \n",
      "\n",
      "   tb_polarity  tb_subjectivity  Vader_Pos  Vader_Neg  Vader_Neu  Word_Count  \\\n",
      "0     0.000000         0.000000      0.000      0.000      1.000          12   \n",
      "1    -0.050000         0.400000      0.000      0.000      1.000           7   \n",
      "2     0.000000         0.000000      0.000      0.000      1.000           2   \n",
      "3    -0.083333         0.833333      0.291      0.099      0.610          19   \n",
      "4     0.000000         0.000000      0.000      0.144      0.856          27   \n",
      "\n",
      "   Vader_Net  Cluster  \n",
      "0      0.000        1  \n",
      "1      0.000        1  \n",
      "2      0.000        1  \n",
      "3      0.192        0  \n",
      "4     -0.144        0  \n"
     ]
    },
    {
     "name": "stderr",
     "output_type": "stream",
     "text": [
      "C:\\Users\\dboyd\\Anaconda3\\lib\\site-packages\\pandas\\core\\frame.py:4117: SettingWithCopyWarning: \n",
      "A value is trying to be set on a copy of a slice from a DataFrame\n",
      "\n",
      "See the caveats in the documentation: http://pandas.pydata.org/pandas-docs/stable/user_guide/indexing.html#returning-a-view-versus-a-copy\n",
      "  errors=errors,\n"
     ]
    }
   ],
   "source": [
    "FinalData.drop(['Tags','Part_of_Speech','#_PoS'], inplace = True, axis = 1)\n",
    "print(FinalData.head(5))"
   ]
  },
  {
   "cell_type": "code",
   "execution_count": 95,
   "metadata": {},
   "outputs": [],
   "source": [
    "FinalData.to_csv('ClusteringNLP.csv')"
   ]
  },
  {
   "cell_type": "code",
   "execution_count": null,
   "metadata": {},
   "outputs": [],
   "source": []
  }
 ],
 "metadata": {
  "kernelspec": {
   "display_name": "Python 3",
   "language": "python",
   "name": "python3"
  },
  "language_info": {
   "codemirror_mode": {
    "name": "ipython",
    "version": 3
   },
   "file_extension": ".py",
   "mimetype": "text/x-python",
   "name": "python",
   "nbconvert_exporter": "python",
   "pygments_lexer": "ipython3",
   "version": "3.7.3"
  },
  "toc": {
   "base_numbering": 1,
   "nav_menu": {},
   "number_sections": true,
   "sideBar": true,
   "skip_h1_title": false,
   "title_cell": "Table of Contents",
   "title_sidebar": "Contents",
   "toc_cell": false,
   "toc_position": {},
   "toc_section_display": true,
   "toc_window_display": false
  }
 },
 "nbformat": 4,
 "nbformat_minor": 2
}
